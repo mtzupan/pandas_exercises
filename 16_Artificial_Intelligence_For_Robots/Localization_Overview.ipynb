{
 "cells": [
  {
   "cell_type": "markdown",
   "metadata": {},
   "source": [
    "#### Localization\n",
    "\n",
    "Chapter 1 from https://classroom.udacity.com/courses/cs373"
   ]
  },
  {
   "cell_type": "code",
   "execution_count": null,
   "metadata": {},
   "outputs": [],
   "source": [
    "#Write code that outputs p after multiplying each entry \n",
    "#by pHit or pMiss at the appropriate places. Remember that\n",
    "#the red cells 1 and 2 are hits and the other green cells\n",
    "#are misses.\n",
    "import numpy as np\n",
    "import pandas as pd\n",
    "\n",
    "p=[0.2,0.2,0.2,0.2,0.2]\n",
    "pHit = 0.6\n",
    "pMiss = 0.2\n",
    "\n",
    "#Enter code here\n",
    "hit = [False, True, True, False, False]\n",
    "df_p = pd.DataFrame(data={'p': p, 'hit': hit})\n",
    "\n",
    "df_p['new_prob'] = df_p.apply(lambda row: row['p'] * pHit if row['hit'] else row['p']*pMiss, axis=1)\n",
    "df_p['normalized_prob'] = df_p['new_prob'] / (df_p['new_prob'].sum())\n",
    "\n",
    "# df_p.assign(new_prob=df_p['p'] * pHit if df_p['hit'] else df_p['p'] * pMiss)\n",
    "#df_p.loc[df_p['hit'] True, 'new_prob'] = \n",
    "\n",
    "print(df_p)"
   ]
  },
  {
   "cell_type": "markdown",
   "metadata": {},
   "source": [
    "Stopped at Lesson 1.17"
   ]
  },
  {
   "cell_type": "code",
   "execution_count": null,
   "metadata": {},
   "outputs": [],
   "source": []
  }
 ],
 "metadata": {
  "kernelspec": {
   "display_name": "Python 3",
   "language": "python",
   "name": "python3"
  },
  "language_info": {
   "codemirror_mode": {
    "name": "ipython",
    "version": 3
   },
   "file_extension": ".py",
   "mimetype": "text/x-python",
   "name": "python",
   "nbconvert_exporter": "python",
   "pygments_lexer": "ipython3",
   "version": "3.7.4"
  }
 },
 "nbformat": 4,
 "nbformat_minor": 2
}
