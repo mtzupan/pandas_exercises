{
 "cells": [
  {
   "cell_type": "code",
   "execution_count": null,
   "metadata": {},
   "outputs": [],
   "source": [
    "import pandas as pd\n",
    "\n",
    "df = pd.DataFrame(data = {\n",
    "    'Day' : ['MON', 'TUE', 'WED', 'THU', 'FRI'], \n",
    "    'Google' : [1129,1132,1134,1152,1152], \n",
    "    'Apple' : [191,192,190,190,188] \n",
    "})\n",
    "df"
   ]
  },
  {
   "cell_type": "code",
   "execution_count": null,
   "metadata": {},
   "outputs": [],
   "source": [
    "reshaped_df = df.melt(id_vars=['Day'])\n",
    "reshaped_df"
   ]
  },
  {
   "cell_type": "markdown",
   "metadata": {},
   "source": [
    "The ```id_vars``` we've passed into the ```melt()``` method is to specify which column we want to leave untouched. Since we want the ```Day``` column to stay even after the melt, we set ```id_vars=['Day']```\n",
    "\n",
    "Notice that the output has columns ```variable``` and ```value```. These are the default names given by pandas for the columns. We can chane this either manually with something like:"
   ]
  },
  {
   "cell_type": "code",
   "execution_count": null,
   "metadata": {},
   "outputs": [],
   "source": [
    "reshaped_df.columns = [['Day', 'Company', 'Closing Price']]\n",
    "reshaped_df"
   ]
  },
  {
   "cell_type": "markdown",
   "metadata": {},
   "source": [
    "#### Unmelt / Reverse Melt / Pivot\n",
    "\n",
    "We can do the reverse of the above in what we call 'pivoting'. In Pivoting or Reverse Melting, we can convert a colmumn with multiple values into several columns of their own. \n",
    "\n",
    "The ```pivot``` method on the dataframe takes two main arguments, ```index``` and ```columns```. The ```index``` parameter is similar to ```id_vars``` we hav seen before, i.e. it is used to specify the column you don't want to touch. The ```columns``` parameter is to specify which column whould be used to create the new columns."
   ]
  },
  {
   "cell_type": "code",
   "execution_count": null,
   "metadata": {},
   "outputs": [],
   "source": [
    "# below doesn't work but is unneccessary for what we want to do...\n",
    "\n",
    "# reshaped_df.pivot(index='Day', columns='Company')"
   ]
  },
  {
   "cell_type": "code",
   "execution_count": null,
   "metadata": {},
   "outputs": [],
   "source": []
  }
 ],
 "metadata": {
  "kernelspec": {
   "display_name": "Python 3",
   "language": "python",
   "name": "python3"
  },
  "language_info": {
   "codemirror_mode": {
    "name": "ipython",
    "version": 3
   },
   "file_extension": ".py",
   "mimetype": "text/x-python",
   "name": "python",
   "nbconvert_exporter": "python",
   "pygments_lexer": "ipython3",
   "version": "3.7.4"
  }
 },
 "nbformat": 4,
 "nbformat_minor": 2
}
